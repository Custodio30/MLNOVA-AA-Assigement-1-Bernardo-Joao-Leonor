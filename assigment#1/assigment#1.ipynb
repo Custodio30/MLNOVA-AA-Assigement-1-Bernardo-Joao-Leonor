{
 "cells": [
  {
   "cell_type": "markdown",
   "id": "0a2f149e",
   "metadata": {},
   "source": [
    "<h3> 🌌 Dataset Description</h3>\n",
    "\n",
    "<p>You will have access to a training set and a test set. The training set contains the position and velocity measurements of the three bodies for different time steps. You sholid use this data to train your model and learn to propagate the trajectories of the objects. The test set contains an initial position and several time steps. Using your trained model, you sholid predict the positions of the three objects starting from the initial position. Additionally, you have access to a sample submission. This is an example of what your submission files sholid look like so that the system can accept them.</p>\n",
    "\n",
    "<h5>📁 Files</h5>\n",
    "<ul>\n",
    "<li>train.csv - the training set</li>\n",
    "<li>test.csv - the test set</li>\n",
    "<li>sample_submission.csv - a sample submission file in the correct format. If saving from pandas use Y_test.to_csv('sample_submission.csv',index=False) This is a file with random numbers as predictions.</li>\n",
    "</ul>\n",
    "\n",
    "<h4>X_train Columns</h4>\n",
    "\n",
    "<ul>\n",
    "<li>t - timestep</li>\n",
    "<li>x_1 - coordinate x of the position of object 1</li>\n",
    "<li>y_1 - coordinate y of the position of object 1</li>\n",
    "<li>v_x_1 - coordinate x of the velocity of object 1</li>\n",
    "<li>v_y_1 - coordinate y of the velocity of object 1</li>\n",
    "<li>x_2 - coordinate x of the position of object 2</li>\n",
    "<li>y_2 - coordinate y of the position of object 2</li>\n",
    "<li>v_x_2 - coordinate x of the velocity of object 2</li>\n",
    "<li>v_y_2 - coordinate y of the velocity of object 2</li>\n",
    "<li>x_3 - coordinate x of the position of object 3</li>\n",
    "<li>y_3 - coordinate y of the position of object 3</li>\n",
    "<li>v_x_3 - coordinate x of the velocity of object 3</li>\n",
    "<li>v_y_3 - coordinate y of the velocity of object 3</li>\n",
    "</ul>\n",
    "\n",
    "<h4>X_test Columns</h4>\n",
    "\n",
    "<ul>\n",
    "<li>t - timestep</li>\n",
    "<li>x0_1 - coordinate x of the position of object 1 at time t=0</li>\n",
    "<li>y0_1 - coordinate y of the position of object 1 at time t=0</li>\n",
    "<li>x0_2 - coordinate x of the position of object 2 at time t=0</li>\n",
    "<li>y0_2 - coordinate y of the position of object 2 at time t=0</li>\n",
    "<li>x0_3 - coordinate x of the position of object 3 at time t=0</li>\n",
    "<li>y0_3 - coordinate y of the position of object 3 at time t=0</li>\n",
    "</ul>\n",
    "\n"
   ]
  },
  {
   "cell_type": "markdown",
   "id": "155b27f2",
   "metadata": {},
   "source": [
    "<h2>All libraries we need</h2>"
   ]
  },
  {
   "cell_type": "code",
   "execution_count": null,
   "id": "39edd39d",
   "metadata": {},
   "outputs": [],
   "source": [
    "import matplotlib.pyplot as pyplot   # Library for plotting graphs and visualizations\n",
    "import numpy as np                   # Library for numerical computing (arrays, math functions)\n",
    "import pandas as pd                  # Library for handling datasets (tables, CSVs, DataFrames)\n",
    "from sklearn.metrics import mean_squared_error   # Function to evaluate model performance using MSE\n",
    "from sklearn.model_selection import train_test_split   # Utility to split dataset into training and testing sets\n",
    "from sklearn.preprocessing import StandardScaler       # Tool to normalize/standardize features\n",
    "from sklearn.preprocessing import PolynomialFeatures   # Generates polynomial features for non-linear regression\n",
    "from sklearn.pipeline import make_pipeline             # Builds pipelines that chain preprocessing + model steps\n",
    "from sklearn.linear_model import LinearRegression      # Ordinary least squares linear regression model\n",
    "from sklearn.linear_model import Ridge, RidgeCV        # Ridge regression (L2 regularization) and Ridge with cross-validation\n",
    "from sklearn.compose import ColumnTransformer          # Apply transformations to specific columns of the dataset\n",
    "import time                                            # Python built-in library to measure execution time\n"
   ]
  },
  {
   "cell_type": "markdown",
   "id": "3e497f8f",
   "metadata": {},
   "source": [
    "<h2>Data Read</h2>"
   ]
  },
  {
   "cell_type": "code",
   "execution_count": null,
   "id": "3b00c0a7",
   "metadata": {},
   "outputs": [],
   "source": [
    "data = pd.read_csv('./X_train.csv')  # Load dataset from CSV file into a DataFrame"
   ]
  },
  {
   "cell_type": "code",
   "execution_count": null,
   "id": "8f44e4e5",
   "metadata": {},
   "outputs": [],
   "source": [
    "data.head()  # Display the first few rows of the dataset to understand its structure"
   ]
  }
 ],
 "metadata": {
  "language_info": {
   "name": "python"
  }
 },
 "nbformat": 4,
 "nbformat_minor": 5
}
