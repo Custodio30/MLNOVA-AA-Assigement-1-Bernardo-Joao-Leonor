{
 "cells": [
  {
   "cell_type": "markdown",
   "id": "0a2f149e",
   "metadata": {},
   "source": [
    "<h3> 🌌 Dataset Description</h3>\n",
    "\n",
    "<p>You will have access to a training set and a test set. The training set contains the position and velocity measurements of the three bodies for different time steps. You sholid use this data to train your model and learn to propagate the trajectories of the objects. The test set contains an initial position and several time steps. Using your trained model, you sholid predict the positions of the three objects starting from the initial position. Additionally, you have access to a sample submission. This is an example of what your submission files sholid look like so that the system can accept them welwelelelelee.</p>\n",
    "\n",
    "<h5>📁 Files</h5>\n",
    "<ul>\n",
    "  <li><code>X_train.csv</code> — training set (1,285,000 rows, 14 cols; 5000 trajectories × 257 timesteps)</li>\n",
    "  <li><code>X_test.csv</code> — test set (1,041,621 rows, 8 cols; 4053 trajectories × 257 timesteps)</li>\n",
    "  <li><code>sample_submission.csv</code> — example in the correct format (random predictions)</li>\n",
    "</ul>\n",
    "\n",
    "<h4>X_train Columns</h4>\n",
    "<ul>\n",
    "  <li><code>Id</code> — row index (use <code>traj_id = Id // 257</code>)</li>\n",
    "  <li><code>t</code> — timestep</li>\n",
    "  <li><code>x_1, y_1, v_x_1, v_y_1</code> — position/velocity of object 1</li>\n",
    "  <li><code>x_2, y_2, v_x_2, v_y_2</code> — position/velocity of object 2</li>\n",
    "  <li><code>x_3, y_3, v_x_3, v_y_3</code> — position/velocity of object 3</li>\n",
    "</ul>\n",
    "\n",
    "<h4>X_test Columns</h4>\n",
    "<ul>\n",
    "  <li><code>Id</code> — row id (257 rows per trajectory)</li>\n",
    "  <li><code>t</code> — timestep</li>\n",
    "  <li><code>x0_1, y0_1</code> — object 1 initial position (t=0)</li>\n",
    "  <li><code>x0_2, y0_2</code> — object 2 initial position (t=0)</li>\n",
    "  <li><code>x0_3, y0_3</code> — object 3 initial position (t=0)</li>\n",
    "</ul>\n",
    "\n",
    "<p><b>Note:</b> After a collision, remaining rows in that trajectory are zero-padded (features become zero; <code>t</code> may be 0). Exclude these rows when training/validating.</p>\n",
    "\n"
   ]
  },
  {
   "cell_type": "markdown",
   "id": "155b27f2",
   "metadata": {},
   "source": [
    "<h3>📚 Imports</h3>"
   ]
  },
  {
   "cell_type": "code",
   "execution_count": null,
   "id": "39edd39d",
   "metadata": {},
   "outputs": [],
   "source": [
    "import matplotlib.pyplot as plt   # Library for plotting graphs and visualizations\n",
    "import numpy as np                   # Library for numerical computing (arrays, math functions)\n",
    "import pandas as pd                  # Library for handling datasets (tables, CSVs, DataFrames)\n",
    "from sklearn.metrics import mean_squared_error , root_mean_squared_error  # Function to evaluate model performance using MSE\n",
    "from sklearn.model_selection import train_test_split   # Utility to split dataset into training and testing sets\n",
    "from sklearn.preprocessing import StandardScaler       # Tool to normalize/standardize features\n",
    "from sklearn.preprocessing import PolynomialFeatures   # Generates polynomial features for non-linear regression\n",
    "from sklearn.pipeline import make_pipeline             # Builds pipelines that chain preprocessing + model steps\n",
    "from sklearn.linear_model import LinearRegression      # Ordinary least squares linear regression model\n",
    "from sklearn.linear_model import Ridge, RidgeCV        # Ridge regression (L2 regularization) and Ridge with cross-validation\n",
    "from sklearn.compose import ColumnTransformer          # Apply transformations to specific columns of the dataset\n",
    "import time    \n",
    "#Bla bla                                        # Python built-in library to measure execution time\n"
   ]
  },
  {
   "cell_type": "markdown",
   "id": "3e497f8f",
   "metadata": {},
   "source": [
    "<h3>📂 Load Data</h3>"
   ]
  },
  {
   "cell_type": "code",
   "execution_count": 2,
   "id": "3b00c0a7",
   "metadata": {},
   "outputs": [],
   "source": [
    "data = pd.read_csv(\"~/Downloads/X_train.csv\")\n",
    "test = pd.read_csv(\"~/Downloads/X_test.csv\")"
   ]
  },
  {
   "cell_type": "code",
   "execution_count": 3,
   "id": "8f44e4e5",
   "metadata": {},
   "outputs": [
    {
     "data": {
      "text/html": [
       "<div>\n",
       "<style scoped>\n",
       "    .dataframe tbody tr th:only-of-type {\n",
       "        vertical-align: middle;\n",
       "    }\n",
       "\n",
       "    .dataframe tbody tr th {\n",
       "        vertical-align: top;\n",
       "    }\n",
       "\n",
       "    .dataframe thead th {\n",
       "        text-align: right;\n",
       "    }\n",
       "</style>\n",
       "<table border=\"1\" class=\"dataframe\">\n",
       "  <thead>\n",
       "    <tr style=\"text-align: right;\">\n",
       "      <th></th>\n",
       "      <th>t</th>\n",
       "      <th>x_1</th>\n",
       "      <th>y_1</th>\n",
       "      <th>v_x_1</th>\n",
       "      <th>v_y_1</th>\n",
       "      <th>x_2</th>\n",
       "      <th>y_2</th>\n",
       "      <th>v_x_2</th>\n",
       "      <th>v_y_2</th>\n",
       "      <th>x_3</th>\n",
       "      <th>y_3</th>\n",
       "      <th>v_x_3</th>\n",
       "      <th>v_y_3</th>\n",
       "      <th>Id</th>\n",
       "    </tr>\n",
       "  </thead>\n",
       "  <tbody>\n",
       "    <tr>\n",
       "      <th>0</th>\n",
       "      <td>0.000000</td>\n",
       "      <td>1.000000</td>\n",
       "      <td>0.000000</td>\n",
       "      <td>0.000000</td>\n",
       "      <td>0.000000</td>\n",
       "      <td>-0.266467</td>\n",
       "      <td>0.859196</td>\n",
       "      <td>0.000000</td>\n",
       "      <td>0.000000</td>\n",
       "      <td>-0.733533</td>\n",
       "      <td>-0.859196</td>\n",
       "      <td>0.000000</td>\n",
       "      <td>0.000000</td>\n",
       "      <td>0</td>\n",
       "    </tr>\n",
       "    <tr>\n",
       "      <th>1</th>\n",
       "      <td>0.039062</td>\n",
       "      <td>0.999548</td>\n",
       "      <td>0.000092</td>\n",
       "      <td>-0.023159</td>\n",
       "      <td>0.004731</td>\n",
       "      <td>-0.266261</td>\n",
       "      <td>0.858781</td>\n",
       "      <td>0.010574</td>\n",
       "      <td>-0.021257</td>\n",
       "      <td>-0.733287</td>\n",
       "      <td>-0.858874</td>\n",
       "      <td>0.012584</td>\n",
       "      <td>0.016526</td>\n",
       "      <td>1</td>\n",
       "    </tr>\n",
       "    <tr>\n",
       "      <th>2</th>\n",
       "      <td>0.078125</td>\n",
       "      <td>0.998190</td>\n",
       "      <td>0.000370</td>\n",
       "      <td>-0.046362</td>\n",
       "      <td>0.009474</td>\n",
       "      <td>-0.265641</td>\n",
       "      <td>0.857535</td>\n",
       "      <td>0.021172</td>\n",
       "      <td>-0.042552</td>\n",
       "      <td>-0.732549</td>\n",
       "      <td>-0.857905</td>\n",
       "      <td>0.025189</td>\n",
       "      <td>0.033078</td>\n",
       "      <td>2</td>\n",
       "    </tr>\n",
       "    <tr>\n",
       "      <th>3</th>\n",
       "      <td>0.117188</td>\n",
       "      <td>0.995925</td>\n",
       "      <td>0.000833</td>\n",
       "      <td>-0.069654</td>\n",
       "      <td>0.014239</td>\n",
       "      <td>-0.264606</td>\n",
       "      <td>0.855456</td>\n",
       "      <td>0.031817</td>\n",
       "      <td>-0.063924</td>\n",
       "      <td>-0.731318</td>\n",
       "      <td>-0.856289</td>\n",
       "      <td>0.037837</td>\n",
       "      <td>0.049685</td>\n",
       "      <td>3</td>\n",
       "    </tr>\n",
       "    <tr>\n",
       "      <th>4</th>\n",
       "      <td>0.156250</td>\n",
       "      <td>0.992747</td>\n",
       "      <td>0.001483</td>\n",
       "      <td>-0.093080</td>\n",
       "      <td>0.019040</td>\n",
       "      <td>-0.263154</td>\n",
       "      <td>0.852540</td>\n",
       "      <td>0.042533</td>\n",
       "      <td>-0.085412</td>\n",
       "      <td>-0.729592</td>\n",
       "      <td>-0.854022</td>\n",
       "      <td>0.050548</td>\n",
       "      <td>0.066372</td>\n",
       "      <td>4</td>\n",
       "    </tr>\n",
       "  </tbody>\n",
       "</table>\n",
       "</div>"
      ],
      "text/plain": [
       "          t       x_1       y_1     v_x_1     v_y_1       x_2       y_2  \\\n",
       "0  0.000000  1.000000  0.000000  0.000000  0.000000 -0.266467  0.859196   \n",
       "1  0.039062  0.999548  0.000092 -0.023159  0.004731 -0.266261  0.858781   \n",
       "2  0.078125  0.998190  0.000370 -0.046362  0.009474 -0.265641  0.857535   \n",
       "3  0.117188  0.995925  0.000833 -0.069654  0.014239 -0.264606  0.855456   \n",
       "4  0.156250  0.992747  0.001483 -0.093080  0.019040 -0.263154  0.852540   \n",
       "\n",
       "      v_x_2     v_y_2       x_3       y_3     v_x_3     v_y_3  Id  \n",
       "0  0.000000  0.000000 -0.733533 -0.859196  0.000000  0.000000   0  \n",
       "1  0.010574 -0.021257 -0.733287 -0.858874  0.012584  0.016526   1  \n",
       "2  0.021172 -0.042552 -0.732549 -0.857905  0.025189  0.033078   2  \n",
       "3  0.031817 -0.063924 -0.731318 -0.856289  0.037837  0.049685   3  \n",
       "4  0.042533 -0.085412 -0.729592 -0.854022  0.050548  0.066372   4  "
      ]
     },
     "execution_count": 3,
     "metadata": {},
     "output_type": "execute_result"
    }
   ],
   "source": [
    "data.head()  # Display the first few rows of the dataset to understand its structure"
   ]
  },
  {
   "cell_type": "code",
   "execution_count": 4,
   "id": "2206b5c5",
   "metadata": {},
   "outputs": [
    {
     "data": {
      "text/plain": [
       "Index(['t', 'x_1', 'y_1', 'v_x_1', 'v_y_1', 'x_2', 'y_2', 'v_x_2', 'v_y_2',\n",
       "       'x_3', 'y_3', 'v_x_3', 'v_y_3', 'Id'],\n",
       "      dtype='object')"
      ]
     },
     "execution_count": 4,
     "metadata": {},
     "output_type": "execute_result"
    }
   ],
   "source": [
    "data.columns  # List all column names to identify features and target variable"
   ]
  },
  {
   "cell_type": "code",
   "execution_count": 5,
   "id": "0e6e19f0",
   "metadata": {},
   "outputs": [
    {
     "data": {
      "text/plain": [
       "((4054,), 0.0, 10.0)"
      ]
     },
     "execution_count": 5,
     "metadata": {},
     "output_type": "execute_result"
    }
   ],
   "source": [
    "idx = np.hstack((0,data[data.t==10].index.values +1))  # Indices where each trajectory starts (t=0)\n",
    "idx.shape, data.t.min(), data.t.max()  # Check number of trajectories and time range"
   ]
  },
  {
   "cell_type": "code",
   "execution_count": 6,
   "id": "1b8acf03",
   "metadata": {},
   "outputs": [
    {
     "name": "stdout",
     "output_type": "stream",
     "text": [
      "1403\n"
     ]
    },
    {
     "data": {
      "text/plain": [
       "[<matplotlib.lines.Line2D at 0x175f8c680>]"
      ]
     },
     "execution_count": 6,
     "metadata": {},
     "output_type": "execute_result"
    },
    {
     "data": {
      "image/png": "[encoded data removed]",
      "text/plain": [
       "<Figure size 640x480 with 1 Axes>"
      ]
     },
     "metadata": {},
     "output_type": "display_data"
    }
   ],
   "source": [
    "k = np.random.randint(idx.shape[0])  # Pick a random trajectory index\n",
    "print(k)\n",
    "plitdx = range(idx[k],257+idx[k])  # Get the row indices for that trajectory\n",
    "pltsquare = idx[k]   # Determine the subplot position based on trajectory index\n",
    "pyplot.plot(data.x_1[plitdx],data.y_1[plitdx])  # Plot the trajectory of object 1\n",
    "pyplot.plot(data.x_2[plitdx],data.y_2[plitdx])  # Plot the trajectory of object 2\n",
    "pyplot.plot(data.x_3[plitdx],data.y_3[plitdx])  # Plot the trajectory of object 3\n",
    "\n",
    "pyplot.plot(data.x_1[pltsquare],data.y_1[pltsquare],'s')  # Mark the starting point of object 1\n",
    "pyplot.plot(data.x_2[pltsquare],data.y_2[pltsquare],'s')  # Mark the starting point of object 2\n",
    "pyplot.plot(data.x_3[pltsquare],data.y_3[pltsquare],'s')  # Mark the starting point of object 3"
   ]
  },
  {
   "cell_type": "markdown",
   "id": "50ff3ff3",
   "metadata": {},
   "source": [
    "<h2>📝 Task 1 - Setting the Baseline</h2>\n",
    "<h3>Task 1.1 - Data Preparation and Validation Pipeline</h3>"
   ]
  },
  {
   "cell_type": "markdown",
   "id": "3444f927",
   "metadata": {},
   "source": [
    "<h3>🧩 Preprocessing (trajectory id, padding, initial conditions)(Reusable)</h3>"
   ]
  },
  {
   "cell_type": "code",
   "execution_count": 16,
   "id": "034350c3",
   "metadata": {},
   "outputs": [],
   "source": [
    "#Creates a unique identifier for each trajectory\n",
    "#Essential to group lines by trajectory (to exclude collisions and make correct division)\n",
    "def add_traj_id(df: pd.DataFrame, steps_per_traj: int = 257) -> pd.DataFrame:\n",
    "    out = df.copy()\n",
    "    out[\"traj_id\"] = (out[\"Id\"] // steps_per_traj).astype(np.int32)\n",
    "    return out\n",
    "\n",
    "#Identifies all the lines that have a colision with True\n",
    "#Essential for filtering colisions and the trajectories with colisions \n",
    "def mark_padding(df: pd.DataFrame) -> pd.DataFrame:\n",
    "    out = df.copy()\n",
    "    feat_cols = [\n",
    "        'x_1','y_1','v_x_1','v_y_1',\n",
    "        'x_2','y_2','v_x_2','v_y_2',\n",
    "        'x_3','y_3','v_x_3','v_y_3'\n",
    "    ]\n",
    "    out[\"is_padding\"] = (out[feat_cols].abs().sum(axis=1) == 0)\n",
    "    return out\n",
    "\n",
    "#Identifies the initial position of each trajectorie and puts with x0_* and y0_*\n",
    "#Essential to use the starting positions as static features.\n",
    "def add_initial_positions(df: pd.DataFrame) -> pd.DataFrame:\n",
    "    out = df.copy()\n",
    "    first = out.loc[out.groupby(\"traj_id\")[\"t\"].idxmin(),\n",
    "                    [\"traj_id\",\"x_1\",\"y_1\",\"x_2\",\"y_2\",\"x_3\",\"y_3\"]].rename(columns={\n",
    "        \"x_1\":\"x0_1\",\"y_1\":\"y0_1\",\n",
    "        \"x_2\":\"x0_2\",\"y_2\":\"y0_2\",\n",
    "        \"x_3\":\"x0_3\",\"y_3\":\"y0_3\"\n",
    "    })\n",
    "    out = out.merge(first, on=\"traj_id\", how=\"left\")\n",
    "    return out\n",
    "\n",
    "#Pipeline\n",
    "def preprocess_train(df: pd.DataFrame, steps_per_traj: int = 257) -> pd.DataFrame:\n",
    "    out = add_traj_id(df, steps_per_traj=steps_per_traj)\n",
    "    out = mark_padding(out)\n",
    "    out = add_initial_positions(out)\n",
    "    return out"
   ]
  },
  {
   "cell_type": "markdown",
   "id": "34112138",
   "metadata": {},
   "source": [
    "<h3>Exploration + grafic Functions (insightful)</h3>"
   ]
  },
  {
   "cell_type": "code",
   "execution_count": 8,
   "id": "8fbfb1da",
   "metadata": {},
   "outputs": [],
   "source": [
    "#Dataset visualization\n",
    "#Important for exploring and documenting the database\n",
    "def dataset_overview(df):\n",
    "    n_rows, n_cols = df.shape\n",
    "    n_traj = df[\"traj_id\"].nunique()\n",
    "    steps_per_traj = df.groupby(\"traj_id\")[\"t\"].size()\n",
    "    padding_pct = 100 * df[\"is_padding\"].mean()\n",
    "\n",
    "    info = pd.DataFrame({\n",
    "        \"metric\": [\n",
    "            \"rows\", \"cols\",\n",
    "            \"n_trajectories\",\n",
    "            \"steps_per_traj (min)\",\n",
    "            \"steps_per_traj (max)\",\n",
    "            \"steps_per_traj (mean)\",\n",
    "            \"% padding rows\",\n",
    "            \"t range [min,max]\"\n",
    "        ],\n",
    "        \"value\": [\n",
    "            n_rows, n_cols,\n",
    "            n_traj,\n",
    "            steps_per_traj.min(),\n",
    "            steps_per_traj.max(),\n",
    "            f\"{steps_per_traj.mean():.2f}\",\n",
    "            f\"{padding_pct:.2f}%\",\n",
    "            f\"[{df['t'].min()}, {df['t'].max()}]\"\n",
    "        ]\n",
    "    })\n",
    "    return info\n",
    "\n",
    "#Finds the trajectories that were classified has True in padding\n",
    "#Important for insight into dynamics and collisions.\n",
    "def find_collision_traj(df):\n",
    "    has_pad = df.groupby(\"traj_id\")[\"is_padding\"].any()\n",
    "    cand = has_pad[has_pad].index\n",
    "    return int(np.random.choice(cand)) if len(cand) > 0 else None\n",
    "\n",
    "#Histogram of non_paddings trajectories \n",
    "def plot_hist_nonpadding_lengths(df):\n",
    "    g = df.groupby(\"traj_id\")\n",
    "    lengths = (g[\"is_padding\"].apply(lambda s: (~s).sum())).values\n",
    "    plt.figure(figsize=(6,4))\n",
    "    plt.hist(lengths, bins=30)\n",
    "    plt.xlabel(\"Non-padding length per trajectory\")\n",
    "    plt.ylabel(\"Count\")\n",
    "    plt.title(\"Distribution of effective trajectory lengths\")\n",
    "    plt.show()\n",
    " \n",
    "#Histogram os a random trajectory\n",
    "def plot_one_trajectory(df, traj_id=None, title_prefix=\"Trajectory\"):\n",
    "    if traj_id is None:\n",
    "        traj_id = np.random.choice(df[\"traj_id\"].unique())\n",
    "\n",
    "    d = df.loc[df[\"traj_id\"] == traj_id].sort_values(\"t\")\n",
    "    plt.figure(figsize=(6,6))\n",
    "    plt.plot(d[\"x_1\"], d[\"y_1\"], label=\"obj 1\")\n",
    "    plt.plot(d[\"x_2\"], d[\"y_2\"], label=\"obj 2\")\n",
    "    plt.plot(d[\"x_3\"], d[\"y_3\"], label=\"obj 3\")\n",
    "    plt.plot(d[\"x_1\"].iloc[0], d[\"y_1\"].iloc[0], 's')\n",
    "    plt.plot(d[\"x_2\"].iloc[0], d[\"y_2\"].iloc[0], 's')\n",
    "    plt.plot(d[\"x_3\"].iloc[0], d[\"y_3\"].iloc[0], 's')\n",
    "    plt.axis('equal'); plt.legend()\n",
    "    plt.title(f\"{title_prefix} {traj_id}\")\n",
    "    plt.show()\n",
    "\n",
    "#Checks if all particles start with velocity 0\n",
    "#Important for hecking the physical consistency of the dataset\n",
    "def check_initial_velocities_zero(df):\n",
    "    d0 = df.loc[df.groupby(\"traj_id\")[\"t\"].idxmin(),\n",
    "                [\"traj_id\",\"v_x_1\",\"v_y_1\",\"v_x_2\",\"v_y_2\",\"v_x_3\",\"v_y_3\"]]\n",
    "    tol = 1e-6\n",
    "    is_zero = (d0.abs() < tol).all(axis=1)\n",
    "    summary = pd.DataFrame({\n",
    "        \"trajectories_checked\": [len(d0)],\n",
    "        \"all_initial_velocities_zero?\": [bool(is_zero.all())],\n",
    "        \"max_abs_initial_speed\": [float(d0.abs().values.max())]\n",
    "    })\n",
    "    return summary\n",
    "\n",
    "#Plots \n",
    "def plot_t_hist(df):\n",
    "    plt.figure(figsize=(6,4))\n",
    "    plt.hist(df[\"t\"], bins=50)\n",
    "    plt.xlabel(\"t\")\n",
    "    plt.ylabel(\"count\")\n",
    "    plt.title(\"Histogram of timestep t\")\n",
    "    plt.show()\n"
   ]
  },
  {
   "cell_type": "markdown",
   "id": "8163f028",
   "metadata": {},
   "source": [
    "<h3>Exploration + Preparation Execution ( with print for slides)</h3>"
   ]
  },
  {
   "cell_type": "code",
   "execution_count": 11,
   "id": "f874d414",
   "metadata": {},
   "outputs": [
    {
     "data": {
      "text/html": [
       "<div>\n",
       "<style scoped>\n",
       "    .dataframe tbody tr th:only-of-type {\n",
       "        vertical-align: middle;\n",
       "    }\n",
       "\n",
       "    .dataframe tbody tr th {\n",
       "        vertical-align: top;\n",
       "    }\n",
       "\n",
       "    .dataframe thead th {\n",
       "        text-align: right;\n",
       "    }\n",
       "</style>\n",
       "<table border=\"1\" class=\"dataframe\">\n",
       "  <thead>\n",
       "    <tr style=\"text-align: right;\">\n",
       "      <th></th>\n",
       "      <th>metric</th>\n",
       "      <th>value</th>\n",
       "    </tr>\n",
       "  </thead>\n",
       "  <tbody>\n",
       "    <tr>\n",
       "      <th>0</th>\n",
       "      <td>rows</td>\n",
       "      <td>1285000</td>\n",
       "    </tr>\n",
       "    <tr>\n",
       "      <th>1</th>\n",
       "      <td>cols</td>\n",
       "      <td>22</td>\n",
       "    </tr>\n",
       "    <tr>\n",
       "      <th>2</th>\n",
       "      <td>n_trajectories</td>\n",
       "      <td>5000</td>\n",
       "    </tr>\n",
       "    <tr>\n",
       "      <th>3</th>\n",
       "      <td>steps_per_traj (min)</td>\n",
       "      <td>257</td>\n",
       "    </tr>\n",
       "    <tr>\n",
       "      <th>4</th>\n",
       "      <td>steps_per_traj (max)</td>\n",
       "      <td>257</td>\n",
       "    </tr>\n",
       "    <tr>\n",
       "      <th>5</th>\n",
       "      <td>steps_per_traj (mean)</td>\n",
       "      <td>257.00</td>\n",
       "    </tr>\n",
       "    <tr>\n",
       "      <th>6</th>\n",
       "      <td>% padding rows</td>\n",
       "      <td>15.19%</td>\n",
       "    </tr>\n",
       "    <tr>\n",
       "      <th>7</th>\n",
       "      <td>t range [min,max]</td>\n",
       "      <td>[0.0, 10.0]</td>\n",
       "    </tr>\n",
       "  </tbody>\n",
       "</table>\n",
       "</div>"
      ],
      "text/plain": [
       "                  metric        value\n",
       "0                   rows      1285000\n",
       "1                   cols           22\n",
       "2         n_trajectories         5000\n",
       "3   steps_per_traj (min)          257\n",
       "4   steps_per_traj (max)          257\n",
       "5  steps_per_traj (mean)       257.00\n",
       "6         % padding rows       15.19%\n",
       "7      t range [min,max]  [0.0, 10.0]"
      ]
     },
     "metadata": {},
     "output_type": "display_data"
    },
    {
     "data": {
      "text/html": [
       "<div>\n",
       "<style scoped>\n",
       "    .dataframe tbody tr th:only-of-type {\n",
       "        vertical-align: middle;\n",
       "    }\n",
       "\n",
       "    .dataframe tbody tr th {\n",
       "        vertical-align: top;\n",
       "    }\n",
       "\n",
       "    .dataframe thead th {\n",
       "        text-align: right;\n",
       "    }\n",
       "</style>\n",
       "<table border=\"1\" class=\"dataframe\">\n",
       "  <thead>\n",
       "    <tr style=\"text-align: right;\">\n",
       "      <th></th>\n",
       "      <th>trajectories_checked</th>\n",
       "      <th>all_initial_velocities_zero?</th>\n",
       "      <th>max_abs_initial_speed</th>\n",
       "    </tr>\n",
       "  </thead>\n",
       "  <tbody>\n",
       "    <tr>\n",
       "      <th>0</th>\n",
       "      <td>5000</td>\n",
       "      <td>False</td>\n",
       "      <td>4999.0</td>\n",
       "    </tr>\n",
       "  </tbody>\n",
       "</table>\n",
       "</div>"
      ],
      "text/plain": [
       "   trajectories_checked  all_initial_velocities_zero?  max_abs_initial_speed\n",
       "0                  5000                         False                 4999.0"
      ]
     },
     "metadata": {},
     "output_type": "display_data"
    },
    {
     "data": {
      "image/png": "[encoded data removed]",
      "text/plain": [
       "<Figure size 600x600 with 1 Axes>"
      ]
     },
     "metadata": {},
     "output_type": "display_data"
    },
    {
     "data": {
      "image/png": "[encoded data removed]",
      "text/plain": [
       "<Figure size 600x600 with 1 Axes>"
      ]
     },
     "metadata": {},
     "output_type": "display_data"
    },
    {
     "data": {
      "image/png": "[encoded data removed]",
      "text/plain": [
       "<Figure size 600x400 with 1 Axes>"
      ]
     },
     "metadata": {},
     "output_type": "display_data"
    },
    {
     "data": {
      "image/png": "[encoded data removed]",
      "text/plain": [
       "<Figure size 600x400 with 1 Axes>"
      ]
     },
     "metadata": {},
     "output_type": "display_data"
    }
   ],
   "source": [
    "#Show the results\n",
    "train = preprocess_train(data, steps_per_traj=257)\n",
    "overview = dataset_overview(train)\n",
    "display(overview)\n",
    "init_vel_check = check_initial_velocities_zero(train)\n",
    "display(init_vel_check)\n",
    "plot_one_trajectory(train, traj_id=None, title_prefix=\"Normal trajectory\")\n",
    "col_traj = find_collision_traj(train)\n",
    "if col_traj is not None:\n",
    "    plot_one_trajectory(train, traj_id=col_traj, title_prefix=\"Collision trajectory\")\n",
    "else:\n",
    "    print(\"No collision trajectories found (no padding).\")\n",
    "\n",
    "plot_t_hist(train)\n",
    "plot_hist_nonpadding_lengths(train)\n"
   ]
  },
  {
   "cell_type": "markdown",
   "id": "b5c2278c",
   "metadata": {},
   "source": [
    "<h3>✂️ Custom Split by Trajectory</h3>"
   ]
  },
  {
   "cell_type": "code",
   "execution_count": 12,
   "id": "f2bac237",
   "metadata": {},
   "outputs": [
    {
     "name": "stdout",
     "output_type": "stream",
     "text": [
      "Total of lines with padding and colisions: 1041621\n",
      "Train: (729109, 7) (729109, 6)\n",
      "Val:   (155999, 7) (155999, 6)\n",
      "Test:  (156513, 7) (156513, 6)\n"
     ]
    }
   ],
   "source": [
    "####Splitting the data\n",
    "\n",
    "#Definition of features and targets\n",
    "FEATURES = [\"t\",\"x0_1\",\"y0_1\",\"x0_2\",\"y0_2\",\"x0_3\",\"y0_3\"]\n",
    "TARGETS  = [\"x_1\",\"y_1\",\"x_2\",\"y_2\",\"x_3\",\"y_3\"]\n",
    "\n",
    "#Defining split function in 70% train, 15% test and 15%validation\n",
    "def make_train_val_test_split(\n",
    "    dataset: pd.DataFrame,\n",
    "    features: list = FEATURES,\n",
    "    targets: list  = TARGETS,\n",
    "    train_size: float = 0.7,\n",
    "    val_size: float = 0.15,\n",
    "    test_size: float = 0.15,\n",
    "    random_state: int = 42\n",
    "):\n",
    "    #Making sure that the sum of the fractions is 1\n",
    "    assert abs(train_size + val_size + test_size - 1.0) < 1e-8, \"Sum of fractions is 1\"\n",
    "    \n",
    "    #Removing all the lines with padding \n",
    "    traj_with_padding = dataset.loc[dataset[\"is_padding\"], \"traj_id\"].unique()\n",
    "    dataset = dataset[~dataset[\"traj_id\"].isin(traj_with_padding)].copy()\n",
    "    \n",
    "    #Removing colisions\n",
    "    collision_mask = (dataset[\"t\"] == 0) & \\\n",
    "                     (dataset[[\"x_1\",\"y_1\",\"x_2\",\"y_2\",\"x_3\",\"y_3\"]] == 0).all(axis=1)\n",
    "    dataset = dataset[~collision_mask]\n",
    "    print(\"Total of lines with padding and colisions:\", dataset.shape[0])\n",
    "    \n",
    "    #Making sure that the trajectories are unique \n",
    "    unique_traj = np.array(dataset[\"traj_id\"].unique())\n",
    "    np.random.seed(random_state)\n",
    "    np.random.shuffle(unique_traj)\n",
    "\n",
    "    n_total = len(unique_traj)\n",
    "    n_train = int(train_size * n_total)\n",
    "    n_val   = int(val_size * n_total)\n",
    "    n_test = n_total - n_train - n_val\n",
    "\n",
    "    tr_ids = unique_traj[:n_train]\n",
    "    va_ids = unique_traj[n_train:n_train+n_val]\n",
    "    te_ids = unique_traj[n_train+n_val:]\n",
    "    \n",
    "    #Filtering dataset per split\n",
    "    tr = dataset[dataset[\"traj_id\"].isin(tr_ids)].copy()\n",
    "    va = dataset[dataset[\"traj_id\"].isin(va_ids)].copy()\n",
    "    te = dataset[dataset[\"traj_id\"].isin(te_ids)].copy()\n",
    "    \n",
    "    #Extracting X and Y arrays\n",
    "    X_tr, y_tr = tr[features].values, tr[targets].values\n",
    "    X_va, y_va = va[features].values, va[targets].values\n",
    "    X_te, y_te = te[features].values, te[targets].values\n",
    "\n",
    "    return X_tr, y_tr, X_va, y_va, X_te, y_te, tr, va, te\n",
    "\n",
    "#Executing split\n",
    "X_tr, y_tr, X_va, y_va, X_te, y_te, tr_df, va_df, te_df = make_train_val_test_split(train)\n",
    "\n",
    "print(\"Train:\", X_tr.shape, y_tr.shape)\n",
    "print(\"Val:  \", X_va.shape, y_va.shape)\n",
    "print(\"Test: \", X_te.shape, y_te.shape)"
   ]
  },
  {
   "cell_type": "markdown",
   "id": "d6932bb7",
   "metadata": {},
   "source": [
    "<h3>📝 Task 1.2 - Learn the baseline model</h3>"
   ]
  },
  {
   "cell_type": "markdown",
   "id": "1b5ee227",
   "metadata": {},
   "source": [
    "<h3>🔎 Baseline Model (Linear Regression)</h3>"
   ]
  },
  {
   "cell_type": "code",
   "execution_count": 13,
   "id": "4850ac0b",
   "metadata": {},
   "outputs": [
    {
     "name": "stdout",
     "output_type": "stream",
     "text": [
      "Baseline RMSE (validation split): 1.415889079322975\n"
     ]
    }
   ],
   "source": [
    "############# Task1.2 #############\n",
    "\n",
    "#Pipeline: StandardScaler for normalizing the values and doing the linear regression\n",
    "baseline = make_pipeline(StandardScaler(with_mean=True), LinearRegression())\n",
    "baseline.fit(X_tr, y_tr)  \n",
    "y_hat = baseline.predict(X_va)  # previsão no validation\n",
    "\n",
    "#Doing the mean squared error\n",
    "rmse = mean_squared_error(y_va, y_hat)\n",
    "rmse = np.sqrt(mean_squared_error(y_va, y_hat))\n",
    "print(\"Baseline RMSE (validation split):\", rmse)"
   ]
  },
  {
   "cell_type": "markdown",
   "id": "ec522e20",
   "metadata": {},
   "source": [
    "<h3>📊 y–ŷ Plot Helper</h3>"
   ]
  },
  {
   "cell_type": "code",
   "execution_count": 14,
   "id": "a56afc1b",
   "metadata": {},
   "outputs": [
    {
     "data": {
      "image/png": "[encoded data removed]",
      "text/plain": [
       "<Figure size 1000x1000 with 6 Axes>"
      ]
     },
     "metadata": {},
     "output_type": "display_data"
    }
   ],
   "source": [
    "def plot_y_yhat(y_test,y_pred, plot_title = \"plot\"):\n",
    "    labels = ['x_1','y_1','x_2','y_2','x_3','y_3']\n",
    "    MAX = 500\n",
    "    if len(y_test) > MAX:\n",
    "        idx = np.random.choice(len(y_test),MAX, replace=False)\n",
    "    else:\n",
    "        idx = np.arange(len(y_test))\n",
    "    plt.figure(figsize=(10,10))\n",
    "    for i in range(6):\n",
    "        x0 = np.min(y_test[idx,i])\n",
    "        x1 = np.max(y_test[idx,i])\n",
    "        plt.subplot(3,2,i+1)\n",
    "        plt.scatter(y_test[idx,i],y_pred[idx,i])\n",
    "        plt.xlabel('True '+labels[i])\n",
    "        plt.ylabel('Predicted '+labels[i])\n",
    "        plt.plot([x0,x1],[x0,x1],color='red')\n",
    "        plt.axis('square')\n",
    "    plt.savefig(plot_title+'.pdf')\n",
    "    plt.show()\n",
    "    \n",
    "\n",
    "plot_y_yhat(y_va, y_hat, plot_title=\"baseline_validation\")\n"
   ]
  },
  {
   "cell_type": "markdown",
   "id": "4a320422",
   "metadata": {},
   "source": [
    "<h3>📤 Generate Kaggle Submission</h3>"
   ]
  },
  {
   "cell_type": "code",
   "execution_count": null,
   "id": "1f9c61a8",
   "metadata": {},
   "outputs": [
    {
     "name": "stdout",
     "output_type": "stream",
     "text": [
      "Saved submission file: baseline-model.csv\n"
     ]
    },
    {
     "data": {
      "text/plain": [
       "(None,)"
      ]
     },
     "execution_count": 15,
     "metadata": {},
     "output_type": "execute_result"
    }
   ],
   "source": [
    "#Preparing the dataset for training\n",
    "full = train[~train[\"is_padding\"]].copy()\n",
    "X_full = full[FEATURES].values\n",
    "y_full = full[TARGETS].values\n",
    "\n",
    "#Baseline model\n",
    "baseline_full = make_pipeline(StandardScaler(with_mean=True), LinearRegression())\n",
    "baseline_full.fit(X_full, y_full)\n",
    "\n",
    "#Preparing test\n",
    "X_test = test[[\"t\",\"x0_1\",\"y0_1\",\"x0_2\",\"y0_2\",\"x0_3\",\"y0_3\"]].values\n",
    "pred = baseline_full.predict(X_test)\n",
    "\n",
    "#Construct the submission\n",
    "submission = pd.DataFrame({\n",
    "    \"Id\": test[\"Id\"].astype(np.int64),\n",
    "    \"x_1\": pred[:,0], \"y_1\": pred[:,1],\n",
    "    \"x_2\": pred[:,2], \"y_2\": pred[:,3],\n",
    "    \"x_3\": pred[:,4], \"y_3\": pred[:,5],\n",
    "})\n",
    "submission.to_csv(\"baseline-model.csv\", index=False)\n",
    "print(\"Saved submission file: baseline-model.csv\") \n",
    "\n",
    "\n"
   ]
  },
  {
   "cell_type": "markdown",
   "id": "a0c8c87b",
   "metadata": {},
   "source": [
    "<h3>📝 Task 2 -  Nonlinear models on the data — the Polynomial model</h3>"
   ]
  },
  {
   "cell_type": "markdown",
   "id": "b6dbb251",
   "metadata": {},
   "source": [
    "<h3>📝 Task 2.1 - Development</h3>"
   ]
  },
  {
   "cell_type": "markdown",
   "id": "541df785",
   "metadata": {},
   "source": [
    "<h3> 🚀 Development — Polynomial Regression Validition</h3>"
   ]
  },
  {
   "cell_type": "code",
   "execution_count": null,
   "id": "2912b406",
   "metadata": {},
   "outputs": [],
   "source": [
    "def _make_regressor(use_ridgecv=False, ridge_alphas=(0.1, 1.0, 10.0)):\n",
    "    return RidgeCV(alphas=np.array(ridge_alphas)) if use_ridgecv else LinearRegression()\n",
    "\n",
    "def validate_poly_regression(\n",
    "    X_train, y_train, X_val, y_val,\n",
    "    regressor=None,\n",
    "    degrees=range(1, 15),\n",
    "    max_features=None,          # p.ex. 800~1500\n",
    "    sample_frac=0.02,           # FRAÇÃO PEQUENA (2%)\n",
    "    max_samples=30000,          # TETO ABSOLUTO DE AMOSTRAS\n",
    "    random_state=42,\n",
    "    use_ridgecv=False,\n",
    "    ridge_alphas=(0.01, 0.1, 1.0, 10.0, 100.0),\n",
    "    verbose=True\n",
    "):\n",
    "    \"\"\"\n",
    "    Varre graus polinomiais e devolve (best_model, best_rmse, logs).\n",
    "    Otimizações:\n",
    "      - Pré-cheque do nº de features (sem treinar) → evita estouro.\n",
    "      - Amostragem controlada (sample_frac + max_samples).\n",
    "      - Converte para float32 para poupar memória.\n",
    "    \"\"\"\n",
    "    rng = np.random.RandomState(random_state)\n",
    "\n",
    "    # --- amostragem controlada ---\n",
    "    n = len(X_train)\n",
    "    n_samp = min(int(max(1, sample_frac*n)), int(max_samples))\n",
    "    idx = rng.choice(n, n_samp, replace=False)\n",
    "\n",
    "    X_tr = X_train[idx].astype(np.float32, copy=False)\n",
    "    y_tr = y_train[idx].astype(np.float32, copy=False)\n",
    "\n",
    "    X_val32 = X_val.astype(np.float32, copy=False)\n",
    "    y_val32 = y_val.astype(np.float32, copy=False)\n",
    "\n",
    "    best_rmse = np.inf\n",
    "    best_model = None\n",
    "    logs = []  # (degree, n_features, fit_time_s, rmse)\n",
    "\n",
    "    n_in = X_tr.shape[1]\n",
    "\n",
    "    for d in degrees:\n",
    "        # --- 1) calcular nº de features sem treinar ---\n",
    "        poly_probe = PolynomialFeatures(degree=d, include_bias=False)\n",
    "        # basta dar o shape correto; uma linha já chega\n",
    "        poly_probe.fit(np.zeros((1, n_in), dtype=np.float32))\n",
    "        n_feats = int(poly_probe.n_output_features_)\n",
    "\n",
    "        if (max_features is not None) and (n_feats > max_features):\n",
    "            if verbose:\n",
    "                print(f\"[skip] degree={d} → {n_feats} features (> max={max_features})\")\n",
    "            logs.append((d, n_feats, np.nan, np.nan))\n",
    "            continue\n",
    "\n",
    "        # --- 2) construir pipeline e treinar ---\n",
    "        reg = regressor if regressor is not None else _make_regressor(use_ridgecv, ridge_alphas)\n",
    "        pipe = make_pipeline(\n",
    "            PolynomialFeatures(degree=d, include_bias=False),\n",
    "            StandardScaler(with_mean=True),\n",
    "            reg\n",
    "        )\n",
    "\n",
    "        t0 = time.time()\n",
    "        pipe.fit(X_tr, y_tr)\n",
    "        fit_time = time.time() - t0\n",
    "\n",
    "        # --- 3) validar ---\n",
    "        y_pred = pipe.predict(X_val32)\n",
    "        rmse = float(np.sqrt(mean_squared_error(y_val32, y_pred)))\n",
    "\n",
    "        logs.append((d, n_feats, fit_time, rmse))\n",
    "        if verbose:\n",
    "            print(f\"degree={d:>2} | feats={n_feats:>5} | time={fit_time:6.2f}s | RMSE={rmse:7.4f}\")\n",
    "\n",
    "        if rmse < best_rmse:\n",
    "            best_rmse = rmse\n",
    "            best_model = pipe\n",
    "\n",
    "    return best_model, best_rmse, logs"
   ]
  },
  {
   "cell_type": "markdown",
   "id": "f04935aa",
   "metadata": {},
   "source": [
    "<h3>Run a simple validation (a “trial”)</h3>"
   ]
  },
  {
   "cell_type": "code",
   "execution_count": null,
   "id": "e7cf7aad",
   "metadata": {},
   "outputs": [
    {
     "name": "stdout",
     "output_type": "stream",
     "text": [
      "degree= 1 | feats=    7 | time=  0.04s | RMSE= 1.2994\n",
      "degree= 2 | feats=   35 | time=  0.19s | RMSE= 1.2591\n",
      "degree= 3 | feats=  119 | time=  0.62s | RMSE= 1.2134\n",
      "degree= 4 | feats=  329 | time=  1.84s | RMSE= 1.1683\n",
      "degree= 5 | feats=  791 | time=  6.39s | RMSE= 1.1300\n",
      "[skip] degree=6 → 1715 features (> max=1500)\n",
      "[skip] degree=7 → 3431 features (> max=1500)\n",
      "[skip] degree=8 → 6434 features (> max=1500)\n",
      "[skip] degree=9 → 11439 features (> max=1500)\n",
      "[skip] degree=10 → 19447 features (> max=1500)\n",
      "Best RMSE (Linear): 1.1300241182600683\n",
      "degree= 1 | feats=    7 | time=  0.32s | RMSE= 1.2994\n",
      "degree= 2 | feats=   35 | time=  0.43s | RMSE= 1.2591\n",
      "degree= 3 | feats=  119 | time=  1.41s | RMSE= 1.2134\n",
      "degree= 4 | feats=  329 | time=  3.90s | RMSE= 1.1683\n",
      "degree= 5 | feats=  791 | time= 12.23s | RMSE= 1.1300\n",
      "[skip] degree=6 → 1715 features (> max=1500)\n",
      "[skip] degree=7 → 3431 features (> max=1500)\n",
      "[skip] degree=8 → 6434 features (> max=1500)\n"
     ]
    },
    {
     "ename": "ValueError",
     "evalue": "Indexing a matrix of 2196663040 elements would incur an in integer overflow in LAPACK. Try using numpy.linalg.svd instead.",
     "output_type": "error",
     "traceback": [
      "\u001b[1;31m---------------------------------------------------------------------------\u001b[0m",
      "\u001b[1;31mValueError\u001b[0m                                Traceback (most recent call last)",
      "Cell \u001b[1;32mIn[15], line 12\u001b[0m\n\u001b[0;32m      1\u001b[0m best_model_lr, best_rmse_lr, logs_lr \u001b[38;5;241m=\u001b[39m validate_poly_regression(\n\u001b[0;32m      2\u001b[0m     X_tr, y_tr, X_va, y_va,\n\u001b[0;32m      3\u001b[0m     degrees\u001b[38;5;241m=\u001b[39m\u001b[38;5;28mrange\u001b[39m(\u001b[38;5;241m1\u001b[39m, \u001b[38;5;241m11\u001b[39m),\n\u001b[1;32m   (...)\u001b[0m\n\u001b[0;32m      8\u001b[0m     verbose\u001b[38;5;241m=\u001b[39m\u001b[38;5;28;01mTrue\u001b[39;00m\n\u001b[0;32m      9\u001b[0m )\n\u001b[0;32m     10\u001b[0m \u001b[38;5;28mprint\u001b[39m(\u001b[38;5;124m\"\u001b[39m\u001b[38;5;124mBest RMSE (Linear):\u001b[39m\u001b[38;5;124m\"\u001b[39m, best_rmse_lr)\n\u001b[1;32m---> 12\u001b[0m best_model_ridge, best_rmse_ridge, logs_ridge \u001b[38;5;241m=\u001b[39m validate_poly_regression(\n\u001b[0;32m     13\u001b[0m     X_tr, y_tr, X_va, y_va,\n\u001b[0;32m     14\u001b[0m     degrees\u001b[38;5;241m=\u001b[39m\u001b[38;5;28mrange\u001b[39m(\u001b[38;5;241m1\u001b[39m, \u001b[38;5;241m11\u001b[39m),\n\u001b[0;32m     15\u001b[0m     max_features\u001b[38;5;241m=\u001b[39m\u001b[38;5;241m1500\u001b[39m,\n\u001b[0;32m     16\u001b[0m     sample_frac\u001b[38;5;241m=\u001b[39m\u001b[38;5;241m0.25\u001b[39m,\n\u001b[0;32m     17\u001b[0m     random_state\u001b[38;5;241m=\u001b[39m\u001b[38;5;241m42\u001b[39m,\n\u001b[0;32m     18\u001b[0m     use_ridgecv\u001b[38;5;241m=\u001b[39m\u001b[38;5;28;01mTrue\u001b[39;00m,         \u001b[38;5;66;03m# RidgeCV\u001b[39;00m\n\u001b[0;32m     19\u001b[0m     ridge_alphas\u001b[38;5;241m=\u001b[39m(\u001b[38;5;241m0.01\u001b[39m, \u001b[38;5;241m0.1\u001b[39m, \u001b[38;5;241m1.0\u001b[39m, \u001b[38;5;241m10.0\u001b[39m, \u001b[38;5;241m100.0\u001b[39m),\n\u001b[0;32m     20\u001b[0m     verbose\u001b[38;5;241m=\u001b[39m\u001b[38;5;28;01mTrue\u001b[39;00m\n\u001b[0;32m     21\u001b[0m )\n\u001b[0;32m     22\u001b[0m \u001b[38;5;28mprint\u001b[39m(\u001b[38;5;124m\"\u001b[39m\u001b[38;5;124mBest RMSE (RidgeCV):\u001b[39m\u001b[38;5;124m\"\u001b[39m, best_rmse_ridge)\n",
      "Cell \u001b[1;32mIn[14], line 48\u001b[0m, in \u001b[0;36mvalidate_poly_regression\u001b[1;34m(X_train, y_train, X_val, y_val, regressor, degrees, max_features, sample_frac, random_state, use_ridgecv, ridge_alphas, verbose)\u001b[0m\n\u001b[0;32m     41\u001b[0m pipe \u001b[38;5;241m=\u001b[39m make_pipeline(\n\u001b[0;32m     42\u001b[0m     PolynomialFeatures(degree\u001b[38;5;241m=\u001b[39md, include_bias\u001b[38;5;241m=\u001b[39m\u001b[38;5;28;01mFalse\u001b[39;00m),\n\u001b[0;32m     43\u001b[0m     StandardScaler(with_mean\u001b[38;5;241m=\u001b[39m\u001b[38;5;28;01mTrue\u001b[39;00m),\n\u001b[0;32m     44\u001b[0m     reg\n\u001b[0;32m     45\u001b[0m )\n\u001b[0;32m     47\u001b[0m t0 \u001b[38;5;241m=\u001b[39m time\u001b[38;5;241m.\u001b[39mtime()\n\u001b[1;32m---> 48\u001b[0m pipe\u001b[38;5;241m.\u001b[39mfit(X_tr, y_tr)\n\u001b[0;32m     49\u001b[0m fit_time \u001b[38;5;241m=\u001b[39m time\u001b[38;5;241m.\u001b[39mtime() \u001b[38;5;241m-\u001b[39m t0\n\u001b[0;32m     51\u001b[0m \u001b[38;5;66;03m# nº de features geradas\u001b[39;00m\n",
      "File \u001b[1;32mc:\\Users\\DESKTOP\\anaconda3\\Lib\\site-packages\\sklearn\\base.py:1389\u001b[0m, in \u001b[0;36m_fit_context.<locals>.decorator.<locals>.wrapper\u001b[1;34m(estimator, *args, **kwargs)\u001b[0m\n\u001b[0;32m   1382\u001b[0m     estimator\u001b[38;5;241m.\u001b[39m_validate_params()\n\u001b[0;32m   1384\u001b[0m \u001b[38;5;28;01mwith\u001b[39;00m config_context(\n\u001b[0;32m   1385\u001b[0m     skip_parameter_validation\u001b[38;5;241m=\u001b[39m(\n\u001b[0;32m   1386\u001b[0m         prefer_skip_nested_validation \u001b[38;5;129;01mor\u001b[39;00m global_skip_validation\n\u001b[0;32m   1387\u001b[0m     )\n\u001b[0;32m   1388\u001b[0m ):\n\u001b[1;32m-> 1389\u001b[0m     \u001b[38;5;28;01mreturn\u001b[39;00m fit_method(estimator, \u001b[38;5;241m*\u001b[39margs, \u001b[38;5;241m*\u001b[39m\u001b[38;5;241m*\u001b[39mkwargs)\n",
      "File \u001b[1;32mc:\\Users\\DESKTOP\\anaconda3\\Lib\\site-packages\\sklearn\\pipeline.py:662\u001b[0m, in \u001b[0;36mPipeline.fit\u001b[1;34m(self, X, y, **params)\u001b[0m\n\u001b[0;32m    656\u001b[0m     \u001b[38;5;28;01mif\u001b[39;00m \u001b[38;5;28mself\u001b[39m\u001b[38;5;241m.\u001b[39m_final_estimator \u001b[38;5;241m!=\u001b[39m \u001b[38;5;124m\"\u001b[39m\u001b[38;5;124mpassthrough\u001b[39m\u001b[38;5;124m\"\u001b[39m:\n\u001b[0;32m    657\u001b[0m         last_step_params \u001b[38;5;241m=\u001b[39m \u001b[38;5;28mself\u001b[39m\u001b[38;5;241m.\u001b[39m_get_metadata_for_step(\n\u001b[0;32m    658\u001b[0m             step_idx\u001b[38;5;241m=\u001b[39m\u001b[38;5;28mlen\u001b[39m(\u001b[38;5;28mself\u001b[39m) \u001b[38;5;241m-\u001b[39m \u001b[38;5;241m1\u001b[39m,\n\u001b[0;32m    659\u001b[0m             step_params\u001b[38;5;241m=\u001b[39mrouted_params[\u001b[38;5;28mself\u001b[39m\u001b[38;5;241m.\u001b[39msteps[\u001b[38;5;241m-\u001b[39m\u001b[38;5;241m1\u001b[39m][\u001b[38;5;241m0\u001b[39m]],\n\u001b[0;32m    660\u001b[0m             all_params\u001b[38;5;241m=\u001b[39mparams,\n\u001b[0;32m    661\u001b[0m         )\n\u001b[1;32m--> 662\u001b[0m         \u001b[38;5;28mself\u001b[39m\u001b[38;5;241m.\u001b[39m_final_estimator\u001b[38;5;241m.\u001b[39mfit(Xt, y, \u001b[38;5;241m*\u001b[39m\u001b[38;5;241m*\u001b[39mlast_step_params[\u001b[38;5;124m\"\u001b[39m\u001b[38;5;124mfit\u001b[39m\u001b[38;5;124m\"\u001b[39m])\n\u001b[0;32m    664\u001b[0m \u001b[38;5;28;01mreturn\u001b[39;00m \u001b[38;5;28mself\u001b[39m\n",
      "File \u001b[1;32mc:\\Users\\DESKTOP\\anaconda3\\Lib\\site-packages\\sklearn\\base.py:1389\u001b[0m, in \u001b[0;36m_fit_context.<locals>.decorator.<locals>.wrapper\u001b[1;34m(estimator, *args, **kwargs)\u001b[0m\n\u001b[0;32m   1382\u001b[0m     estimator\u001b[38;5;241m.\u001b[39m_validate_params()\n\u001b[0;32m   1384\u001b[0m \u001b[38;5;28;01mwith\u001b[39;00m config_context(\n\u001b[0;32m   1385\u001b[0m     skip_parameter_validation\u001b[38;5;241m=\u001b[39m(\n\u001b[0;32m   1386\u001b[0m         prefer_skip_nested_validation \u001b[38;5;129;01mor\u001b[39;00m global_skip_validation\n\u001b[0;32m   1387\u001b[0m     )\n\u001b[0;32m   1388\u001b[0m ):\n\u001b[1;32m-> 1389\u001b[0m     \u001b[38;5;28;01mreturn\u001b[39;00m fit_method(estimator, \u001b[38;5;241m*\u001b[39margs, \u001b[38;5;241m*\u001b[39m\u001b[38;5;241m*\u001b[39mkwargs)\n",
      "File \u001b[1;32mc:\\Users\\DESKTOP\\anaconda3\\Lib\\site-packages\\sklearn\\linear_model\\_ridge.py:2736\u001b[0m, in \u001b[0;36mRidgeCV.fit\u001b[1;34m(self, X, y, sample_weight, **params)\u001b[0m\n\u001b[0;32m   2696\u001b[0m \u001b[38;5;129m@_fit_context\u001b[39m(prefer_skip_nested_validation\u001b[38;5;241m=\u001b[39m\u001b[38;5;28;01mTrue\u001b[39;00m)\n\u001b[0;32m   2697\u001b[0m \u001b[38;5;28;01mdef\u001b[39;00m\u001b[38;5;250m \u001b[39m\u001b[38;5;21mfit\u001b[39m(\u001b[38;5;28mself\u001b[39m, X, y, sample_weight\u001b[38;5;241m=\u001b[39m\u001b[38;5;28;01mNone\u001b[39;00m, \u001b[38;5;241m*\u001b[39m\u001b[38;5;241m*\u001b[39mparams):\n\u001b[0;32m   2698\u001b[0m \u001b[38;5;250m    \u001b[39m\u001b[38;5;124;03m\"\"\"Fit Ridge regression model with cv.\u001b[39;00m\n\u001b[0;32m   2699\u001b[0m \n\u001b[0;32m   2700\u001b[0m \u001b[38;5;124;03m    Parameters\u001b[39;00m\n\u001b[1;32m   (...)\u001b[0m\n\u001b[0;32m   2734\u001b[0m \u001b[38;5;124;03m    the validation score.\u001b[39;00m\n\u001b[0;32m   2735\u001b[0m \u001b[38;5;124;03m    \"\"\"\u001b[39;00m\n\u001b[1;32m-> 2736\u001b[0m     \u001b[38;5;28msuper\u001b[39m()\u001b[38;5;241m.\u001b[39mfit(X, y, sample_weight\u001b[38;5;241m=\u001b[39msample_weight, \u001b[38;5;241m*\u001b[39m\u001b[38;5;241m*\u001b[39mparams)\n\u001b[0;32m   2737\u001b[0m     \u001b[38;5;28;01mreturn\u001b[39;00m \u001b[38;5;28mself\u001b[39m\n",
      "File \u001b[1;32mc:\\Users\\DESKTOP\\anaconda3\\Lib\\site-packages\\sklearn\\linear_model\\_ridge.py:2451\u001b[0m, in \u001b[0;36m_BaseRidgeCV.fit\u001b[1;34m(self, X, y, sample_weight, **params)\u001b[0m\n\u001b[0;32m   2440\u001b[0m     scorer \u001b[38;5;241m=\u001b[39m \u001b[38;5;28;01mNone\u001b[39;00m\n\u001b[0;32m   2442\u001b[0m estimator \u001b[38;5;241m=\u001b[39m _RidgeGCV(\n\u001b[0;32m   2443\u001b[0m     alphas,\n\u001b[0;32m   2444\u001b[0m     fit_intercept\u001b[38;5;241m=\u001b[39m\u001b[38;5;28mself\u001b[39m\u001b[38;5;241m.\u001b[39mfit_intercept,\n\u001b[1;32m   (...)\u001b[0m\n\u001b[0;32m   2449\u001b[0m     alpha_per_target\u001b[38;5;241m=\u001b[39m\u001b[38;5;28mself\u001b[39m\u001b[38;5;241m.\u001b[39malpha_per_target,\n\u001b[0;32m   2450\u001b[0m )\n\u001b[1;32m-> 2451\u001b[0m estimator\u001b[38;5;241m.\u001b[39mfit(\n\u001b[0;32m   2452\u001b[0m     X,\n\u001b[0;32m   2453\u001b[0m     y,\n\u001b[0;32m   2454\u001b[0m     sample_weight\u001b[38;5;241m=\u001b[39msample_weight,\n\u001b[0;32m   2455\u001b[0m     score_params\u001b[38;5;241m=\u001b[39mrouted_params\u001b[38;5;241m.\u001b[39mscorer\u001b[38;5;241m.\u001b[39mscore,\n\u001b[0;32m   2456\u001b[0m )\n\u001b[0;32m   2457\u001b[0m \u001b[38;5;28mself\u001b[39m\u001b[38;5;241m.\u001b[39malpha_ \u001b[38;5;241m=\u001b[39m estimator\u001b[38;5;241m.\u001b[39malpha_\n\u001b[0;32m   2458\u001b[0m \u001b[38;5;28mself\u001b[39m\u001b[38;5;241m.\u001b[39mbest_score_ \u001b[38;5;241m=\u001b[39m estimator\u001b[38;5;241m.\u001b[39mbest_score_\n",
      "File \u001b[1;32mc:\\Users\\DESKTOP\\anaconda3\\Lib\\site-packages\\sklearn\\linear_model\\_ridge.py:2171\u001b[0m, in \u001b[0;36m_RidgeGCV.fit\u001b[1;34m(self, X, y, sample_weight, score_params)\u001b[0m\n\u001b[0;32m   2168\u001b[0m \u001b[38;5;28;01melse\u001b[39;00m:\n\u001b[0;32m   2169\u001b[0m     sqrt_sw \u001b[38;5;241m=\u001b[39m np\u001b[38;5;241m.\u001b[39mones(n_samples, dtype\u001b[38;5;241m=\u001b[39mX\u001b[38;5;241m.\u001b[39mdtype)\n\u001b[1;32m-> 2171\u001b[0m X_mean, \u001b[38;5;241m*\u001b[39mdecomposition \u001b[38;5;241m=\u001b[39m decompose(X, y, sqrt_sw)\n\u001b[0;32m   2173\u001b[0m n_y \u001b[38;5;241m=\u001b[39m \u001b[38;5;241m1\u001b[39m \u001b[38;5;28;01mif\u001b[39;00m \u001b[38;5;28mlen\u001b[39m(y\u001b[38;5;241m.\u001b[39mshape) \u001b[38;5;241m==\u001b[39m \u001b[38;5;241m1\u001b[39m \u001b[38;5;28;01melse\u001b[39;00m y\u001b[38;5;241m.\u001b[39mshape[\u001b[38;5;241m1\u001b[39m]\n\u001b[0;32m   2174\u001b[0m n_alphas \u001b[38;5;241m=\u001b[39m \u001b[38;5;241m1\u001b[39m \u001b[38;5;28;01mif\u001b[39;00m np\u001b[38;5;241m.\u001b[39mndim(\u001b[38;5;28mself\u001b[39m\u001b[38;5;241m.\u001b[39malphas) \u001b[38;5;241m==\u001b[39m \u001b[38;5;241m0\u001b[39m \u001b[38;5;28;01melse\u001b[39;00m \u001b[38;5;28mlen\u001b[39m(\u001b[38;5;28mself\u001b[39m\u001b[38;5;241m.\u001b[39malphas)\n",
      "File \u001b[1;32mc:\\Users\\DESKTOP\\anaconda3\\Lib\\site-packages\\sklearn\\linear_model\\_ridge.py:2069\u001b[0m, in \u001b[0;36m_RidgeGCV._svd_decompose_design_matrix\u001b[1;34m(self, X, y, sqrt_sw)\u001b[0m\n\u001b[0;32m   2067\u001b[0m     intercept_column \u001b[38;5;241m=\u001b[39m sqrt_sw[:, \u001b[38;5;28;01mNone\u001b[39;00m]\n\u001b[0;32m   2068\u001b[0m     X \u001b[38;5;241m=\u001b[39m np\u001b[38;5;241m.\u001b[39mhstack((X, intercept_column))\n\u001b[1;32m-> 2069\u001b[0m U, singvals, _ \u001b[38;5;241m=\u001b[39m linalg\u001b[38;5;241m.\u001b[39msvd(X, full_matrices\u001b[38;5;241m=\u001b[39m\u001b[38;5;241m0\u001b[39m)\n\u001b[0;32m   2070\u001b[0m singvals_sq \u001b[38;5;241m=\u001b[39m singvals\u001b[38;5;241m*\u001b[39m\u001b[38;5;241m*\u001b[39m\u001b[38;5;241m2\u001b[39m\n\u001b[0;32m   2071\u001b[0m UT_y \u001b[38;5;241m=\u001b[39m np\u001b[38;5;241m.\u001b[39mdot(U\u001b[38;5;241m.\u001b[39mT, y)\n",
      "File \u001b[1;32mc:\\Users\\DESKTOP\\anaconda3\\Lib\\site-packages\\scipy\\linalg\\_decomp_svd.py:148\u001b[0m, in \u001b[0;36msvd\u001b[1;34m(a, full_matrices, compute_uv, overwrite_a, check_finite, lapack_driver)\u001b[0m\n\u001b[0;32m    146\u001b[0m         sz \u001b[38;5;241m=\u001b[39m \u001b[38;5;28mmax\u001b[39m(m \u001b[38;5;241m*\u001b[39m min_mn, n \u001b[38;5;241m*\u001b[39m min_mn)\n\u001b[0;32m    147\u001b[0m         \u001b[38;5;28;01mif\u001b[39;00m \u001b[38;5;28mmax\u001b[39m(m \u001b[38;5;241m*\u001b[39m min_mn, n \u001b[38;5;241m*\u001b[39m min_mn) \u001b[38;5;241m>\u001b[39m np\u001b[38;5;241m.\u001b[39miinfo(np\u001b[38;5;241m.\u001b[39mint32)\u001b[38;5;241m.\u001b[39mmax:\n\u001b[1;32m--> 148\u001b[0m             \u001b[38;5;28;01mraise\u001b[39;00m \u001b[38;5;167;01mValueError\u001b[39;00m(\u001b[38;5;124mf\u001b[39m\u001b[38;5;124m\"\u001b[39m\u001b[38;5;124mIndexing a matrix of \u001b[39m\u001b[38;5;132;01m{\u001b[39;00msz\u001b[38;5;132;01m}\u001b[39;00m\u001b[38;5;124m elements would \u001b[39m\u001b[38;5;124m\"\u001b[39m\n\u001b[0;32m    149\u001b[0m                               \u001b[38;5;124m\"\u001b[39m\u001b[38;5;124mincur an in integer overflow in LAPACK. \u001b[39m\u001b[38;5;124m\"\u001b[39m\n\u001b[0;32m    150\u001b[0m                               \u001b[38;5;124m\"\u001b[39m\u001b[38;5;124mTry using numpy.linalg.svd instead.\u001b[39m\u001b[38;5;124m\"\u001b[39m)\n\u001b[0;32m    152\u001b[0m funcs \u001b[38;5;241m=\u001b[39m (lapack_driver, lapack_driver \u001b[38;5;241m+\u001b[39m \u001b[38;5;124m'\u001b[39m\u001b[38;5;124m_lwork\u001b[39m\u001b[38;5;124m'\u001b[39m)\n\u001b[0;32m    153\u001b[0m \u001b[38;5;66;03m# XXX: As of 1.14.1 it isn't possible to build SciPy with ILP64,\u001b[39;00m\n\u001b[0;32m    154\u001b[0m \u001b[38;5;66;03m# so the following line always yields a LP64 (32-bit pointer size) variant\u001b[39;00m\n",
      "\u001b[1;31mValueError\u001b[0m: Indexing a matrix of 2196663040 elements would incur an in integer overflow in LAPACK. Try using numpy.linalg.svd instead."
     ]
    }
   ],
   "source": [
    "# Linear\n",
    "best_model_lr, best_rmse_lr, logs_lr = validate_poly_regression(\n",
    "    X_tr, y_tr, X_va, y_va,\n",
    "    degrees=range(1, 7),     # limitar a 1..6 é sensato\n",
    "    max_features=1000,       # controla explosão de colunas\n",
    "    sample_frac=0.02,        # 2%\n",
    "    max_samples=30000,       # até 30k linhas\n",
    "    random_state=42,\n",
    "    use_ridgecv=False,\n",
    "    verbose=True\n",
    ")\n",
    "print(\"Best RMSE (Linear):\", best_rmse_lr)\n",
    "\n",
    "# RidgeCV\n",
    "best_model_ridge, best_rmse_ridge, logs_ridge = validate_poly_regression(\n",
    "    X_tr, y_tr, X_va, y_va,\n",
    "    degrees=range(1, 7),\n",
    "    max_features=1000,\n",
    "    sample_frac=0.02,\n",
    "    max_samples=30000,\n",
    "    random_state=42,\n",
    "    use_ridgecv=True,\n",
    "    ridge_alphas=(0.01, 0.1, 1.0, 10.0, 100.0),\n",
    "    verbose=True\n",
    ")\n",
    "print(\"Best RMSE (RidgeCV):\", best_rmse_ridge)\n"
   ]
  },
  {
   "cell_type": "markdown",
   "id": "f92e4d5b",
   "metadata": {},
   "source": [
    "<h3>Save number of features and times for slides</h3>"
   ]
  },
  {
   "cell_type": "code",
   "execution_count": 16,
   "id": "c60caae7",
   "metadata": {},
   "outputs": [
    {
     "ename": "NameError",
     "evalue": "name 'logs_ridge' is not defined",
     "output_type": "error",
     "traceback": [
      "\u001b[1;31m---------------------------------------------------------------------------\u001b[0m",
      "\u001b[1;31mNameError\u001b[0m                                 Traceback (most recent call last)",
      "Cell \u001b[1;32mIn[16], line 5\u001b[0m\n\u001b[0;32m      2\u001b[0m     \u001b[38;5;28;01mreturn\u001b[39;00m pd\u001b[38;5;241m.\u001b[39mDataFrame(logs, columns\u001b[38;5;241m=\u001b[39m[\u001b[38;5;124m\"\u001b[39m\u001b[38;5;124mdegree\u001b[39m\u001b[38;5;124m\"\u001b[39m,\u001b[38;5;124m\"\u001b[39m\u001b[38;5;124mn_features\u001b[39m\u001b[38;5;124m\"\u001b[39m,\u001b[38;5;124m\"\u001b[39m\u001b[38;5;124mfit_time_s\u001b[39m\u001b[38;5;124m\"\u001b[39m,\u001b[38;5;124m\"\u001b[39m\u001b[38;5;124mrmse_val\u001b[39m\u001b[38;5;124m\"\u001b[39m])\n\u001b[0;32m      4\u001b[0m df_lr    \u001b[38;5;241m=\u001b[39m logs_to_df(logs_lr)\n\u001b[1;32m----> 5\u001b[0m df_ridge \u001b[38;5;241m=\u001b[39m logs_to_df(logs_ridge)\n\u001b[0;32m      7\u001b[0m \u001b[38;5;28mprint\u001b[39m(\u001b[38;5;124m\"\u001b[39m\u001b[38;5;124mLinear summary:\u001b[39m\u001b[38;5;130;01m\\n\u001b[39;00m\u001b[38;5;124m\"\u001b[39m, df_lr)\n\u001b[0;32m      8\u001b[0m \u001b[38;5;28mprint\u001b[39m(\u001b[38;5;124m\"\u001b[39m\u001b[38;5;124mRidgeCV summary:\u001b[39m\u001b[38;5;130;01m\\n\u001b[39;00m\u001b[38;5;124m\"\u001b[39m, df_ridge)\n",
      "\u001b[1;31mNameError\u001b[0m: name 'logs_ridge' is not defined"
     ]
    }
   ],
   "source": [
    "def logs_to_df(logs):\n",
    "    return pd.DataFrame(logs, columns=[\"degree\",\"n_features\",\"fit_time_s\",\"rmse_val\"])\n",
    "\n",
    "df_lr    = logs_to_df(logs_lr)\n",
    "df_ridge = logs_to_df(logs_ridge)\n",
    "\n",
    "print(\"Linear summary:\\n\", df_lr)\n",
    "print(\"RidgeCV summary:\\n\", df_ridge)\n"
   ]
  },
  {
   "cell_type": "markdown",
   "id": "2f41c2bf",
   "metadata": {},
   "source": [
    "<h3>Repeat 10 times and plot the best grade distribution</h3>"
   ]
  },
  {
   "cell_type": "code",
   "execution_count": null,
   "id": "882eaac9",
   "metadata": {},
   "outputs": [],
   "source": [
    "best_degrees = []\n",
    "seeds = np.arange(10) + 1\n",
    "\n",
    "for sd in seeds:\n",
    "    mdl, rmse, logs = validate_poly_regression(\n",
    "        X_tr, y_tr, X_va, y_va,\n",
    "        degrees=range(1, 11),\n",
    "        max_features=1500,\n",
    "        sample_frac=0.15,      # ainda menor p/ 10 repetições serem rápidas\n",
    "        random_state=int(sd),\n",
    "        use_ridgecv=True,      # p.ex. testar com RidgeCV\n",
    "        ridge_alphas=(0.01, 0.1, 1.0, 10.0, 100.0),\n",
    "        verbose=False\n",
    "    )\n",
    "    df = pd.DataFrame(logs, columns=[\"degree\",\"n_features\",\"fit_time_s\",\"rmse_val\"])\n",
    "    best_deg = int(df.loc[df[\"rmse_val\"].idxmin(), \"degree\"])\n",
    "    best_degrees.append(best_deg)\n",
    "\n",
    "print(\"Best degrees across runs:\", best_degrees)\n",
    "\n",
    "pyplot.figure(figsize=(5,3.5))\n",
    "pyplot.hist(best_degrees, bins=np.arange(min(best_degrees)-0.5, max(best_degrees)+1.5, 1))\n",
    "pyplot.xlabel(\"Selected degree\"); pyplot.ylabel(\"Count (10 runs)\")\n",
    "pyplot.title(\"Distribution of best polynomial degree (RidgeCV)\")\n",
    "pyplot.tight_layout(); pyplot.show()\n"
   ]
  },
  {
   "cell_type": "markdown",
   "id": "d434628e",
   "metadata": {},
   "source": [
    "<h3>📝 Task 2.2 - compare with baseline and submit</h3>"
   ]
  },
  {
   "cell_type": "markdown",
   "id": "e00c1e51",
   "metadata": {},
   "source": [
    "<h3>📊 Compare RMSE + y–ŷ plots</h3>"
   ]
  },
  {
   "cell_type": "code",
   "execution_count": null,
   "id": "3496a2f8",
   "metadata": {},
   "outputs": [],
   "source": [
    "# escolher entre Linear vs RidgeCV (o melhor dos dois)\n",
    "best_model = best_model_ridge if best_rmse_ridge <= best_rmse_lr else best_model_lr\n",
    "print(\"Chosen model:\", best_model)\n",
    "\n",
    "# previsão na validação (para gráfico)\n",
    "y_va_pred = best_model.predict(X_va)\n",
    "rmse_poly = np.sqrt(mean_squared_error(y_va, y_va_pred))\n",
    "print(\"Polynomial RMSE (validation):\", rmse_poly)\n",
    "\n",
    "# gráfico y–ŷ\n",
    "_ = plot_y_yhat(y_va, y_va_pred, plot_title=\"poly_validation\", max_pts=500, seed=42)\n"
   ]
  },
  {
   "cell_type": "markdown",
   "id": "26af8f0f",
   "metadata": {},
   "source": [
    "<h3>📄 Train on the full dataset (without padding) and submit to Kaggle</h3>"
   ]
  },
  {
   "cell_type": "code",
   "execution_count": null,
   "id": "2510a066",
   "metadata": {},
   "outputs": [],
   "source": [
    "# Treino final: usa TODO o treino (sem padding)\n",
    "full = train[~train[\"is_padding\"]].copy()\n",
    "X_full = full[FEATURES].values\n",
    "y_full = full[TARGETS].values\n",
    "\n",
    "# Reconstruir o pipeline com o grau/regressor do best_model escolhido\n",
    "best_deg = best_model.named_steps[\"polynomialfeatures\"].degree\n",
    "use_ridge = isinstance(best_model.named_steps[list(best_model.named_steps.keys())[-1]], RidgeCV)\n",
    "reg_final = RidgeCV(alphas=np.array([0.01,0.1,1.0,10.0,100.0])) if use_ridge else LinearRegression()\n",
    "\n",
    "final_model = make_pipeline(\n",
    "    PolynomialFeatures(degree=best_deg, include_bias=False),\n",
    "    StandardScaler(with_mean=True),\n",
    "    reg_final\n",
    ")\n",
    "final_model.fit(X_full, y_full)\n",
    "\n",
    "# Previsão no X_test (já tens 'test' carregado da Task 1)\n",
    "X_test_arr = test[[\"t\",\"x0_1\",\"y0_1\",\"x0_2\",\"y0_2\",\"x0_3\",\"y0_3\"]].values\n",
    "pred = final_model.predict(X_test_arr)\n",
    "\n",
    "polysub = pd.DataFrame({\n",
    "    \"Id\": test[\"Id\"].astype(np.int64),\n",
    "    \"x_1\": pred[:,0], \"y_1\": pred[:,1],\n",
    "    \"x_2\": pred[:,2], \"y_2\": pred[:,3],\n",
    "    \"x_3\": pred[:,4], \"y_3\": pred[:,5],\n",
    "})\n",
    "polysub.to_csv(\"polynomial_submission.csv\", index=False)\n",
    "print(\"Saved: polynomial_submission.csv (degree=\", best_deg, \", ridge=\", use_ridge, \")\")\n"
   ]
  }
 ],
 "metadata": {
  "kernelspec": {
   "display_name": "base",
   "language": "python",
   "name": "python3"
  },
  "language_info": {
   "codemirror_mode": {
    "name": "ipython",
    "version": 3
   },
   "file_extension": ".py",
   "mimetype": "text/x-python",
   "name": "python",
   "nbconvert_exporter": "python",
   "pygments_lexer": "ipython3",
   "version": "3.12.2"
  }
 },
 "nbformat": 4,
 "nbformat_minor": 5
}
